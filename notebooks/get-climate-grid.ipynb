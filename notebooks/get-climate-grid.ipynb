{
 "cells": [
  {
   "cell_type": "code",
   "execution_count": null,
   "metadata": {},
   "outputs": [],
   "source": [
    "# 2 m temperature (Mean temperature)\n",
    "# Total precipitation ()\n",
    "# Heavy precipitation days (Extreme rainfall)\n",
    "# Warm spell duration index (Heat waves)\n",
    "# Cold spell duration index (Cold waves)"
   ]
  },
  {
   "cell_type": "code",
   "execution_count": 3,
   "metadata": {},
   "outputs": [],
   "source": [
    "import geopandas as gpd\n",
    "import pandas as pd\n",
    "from tqdm import tqdm\n",
    "import numpy as np\n",
    "import rasterio\n",
    "import glob\n",
    "import cdsapi\n",
    "import xarray as xr\n",
    "import rioxarray\n",
    "from urllib.request import urlopen, urlretrieve\n",
    "import urllib3\n",
    "import os\n",
    "import requests, zipfile, io\n",
    "urllib3.disable_warnings(urllib3.exceptions.InsecureRequestWarning)"
   ]
  },
  {
   "cell_type": "code",
   "execution_count": 11,
   "metadata": {},
   "outputs": [],
   "source": [
    "countries = ['Bangladesh',\n",
    "             'Ethiopia',\n",
    "             'Jordan',\n",
    "             'Kenya',\n",
    "             'Pakistan',\n",
    "             'Rwanda',\n",
    "             'Sudan',\n",
    "             'South Sudan',\n",
    "             'Tanzania',\n",
    "             'Uganda']\n",
    "adm0 = {}\n",
    "bbox = {}\n",
    "folders = next(os.walk('../data/raw/gadm'))[1]\n",
    "for folder, country in zip(folders, countries):\n",
    "    path = '../data/raw/gadm/' + folder\n",
    "    files = glob.glob(path + \"/*.shp\")\n",
    "    for file in files:\n",
    "        if '_0.shp' in file:\n",
    "            adm0[country] = gpd.read_file(file)\n",
    "            bbox[country] = adm0[country].total_bounds.tolist()\n",
    "adm0 = pd.concat(adm0, axis=0).reset_index(drop=True)"
   ]
  },
  {
   "cell_type": "markdown",
   "metadata": {},
   "source": [
    "## ERA5\n",
    "https://cds.climate.copernicus.eu/cdsapp#!/dataset/reanalysis-era5-land-monthly-means?tab=form "
   ]
  },
  {
   "cell_type": "markdown",
   "metadata": {},
   "source": [
    "### Get data"
   ]
  },
  {
   "cell_type": "code",
   "execution_count": 6,
   "metadata": {},
   "outputs": [],
   "source": [
    "countries = ['Bangladesh',\n",
    "             'Ethiopia',\n",
    "             'Jordan',\n",
    "             'Kenya',\n",
    "             'Pakistan',\n",
    "             'Rwanda',\n",
    "             'Sudan',\n",
    "             'South Sudan',\n",
    "             'Tanzania',\n",
    "             'Uganda'\n",
    "             ]"
   ]
  },
  {
   "cell_type": "code",
   "execution_count": 7,
   "metadata": {},
   "outputs": [],
   "source": [
    "cds = cdsapi.Client()\n",
    "name = 'reanalysis-era5-land-monthly-means'\n",
    "download_flag = False\n",
    "start = 1980\n",
    "end = 2019\n",
    "year = [str(i) for i in range(start, end)]\n",
    "month = [str(i).zfill(2) for i in range(1, 13)]"
   ]
  },
  {
   "cell_type": "code",
   "execution_count": 8,
   "metadata": {},
   "outputs": [
    {
     "name": "stderr",
     "output_type": "stream",
     "text": [
      "2022-10-06 11:27:32,423 INFO Welcome to the CDS\n",
      "2022-10-06 11:27:32,423 INFO Sending request to https://cds.climate.copernicus.eu/api/v2/resources/reanalysis-era5-land-monthly-means\n",
      "2022-10-06 11:27:32,571 INFO Request is completed\n"
     ]
    }
   ],
   "source": [
    "for country in countries:\n",
    "    # Specify the bounding box to minimize the size of the data\n",
    "    box = [bbox[country][3], bbox[country][0], bbox[country][1], bbox[country][2]]\n",
    "\n",
    "    # Setup parameters\n",
    "    params = {\n",
    "    \"format\": \"netcdf\",\n",
    "    \"product_type\": \"monthly_averaged_reanalysis\",\n",
    "    \"variable\": [\"2m_temperature\", 'total_precipitation'],\n",
    "    'year': year,\n",
    "    'month': month,\n",
    "    \"time\": \"00:00\", \n",
    "    \"grid\": [0.1, 0.1],\n",
    "    \"area\": box\n",
    "    }\n",
    "    \n",
    "    # Get the data\n",
    "    files = cds.retrieve(name, params)\n",
    "    # if download_flag:\n",
    "    #     fl.download(\"./output.nc\")\n",
    "\n",
    "    # Retrieve the data\n",
    "    with urlopen(files.location) as file:\n",
    "        dataset = xr.open_dataset(file.read())\n",
    "\n",
    "    # Do masking, select only those data points that are within the country\n",
    "    dataset = dataset.rio.write_crs('EPSG:4326')\n",
    "    shp = adm0[adm0['NAME_0'] == country]\n",
    "    clipped = dataset.rio.clip(shp.geometry.values, shp.crs)\n",
    "\n",
    "    for t in range(len(dataset['time'])):\n",
    "        # t2m first\n",
    "        variable = 't2m'\n",
    "        scale = lambda x: x - 273.15\n",
    "        array = clipped.isel(time=t)[variable].expand_dims({\"band\":1})\n",
    "        scale(array).fillna(0).rio.to_raster(f\"../data/processed/era5/t2m/{country}{t}.tif\")\n",
    "        # gdf = convert_to_geodataframe(clipped)\n",
    "\n",
    "        # now tp\n",
    "        variable = 'tp'\n",
    "        array = clipped.isel(time=t)[variable].expand_dims({\"band\":1})\n",
    "        array.fillna(0).rio.to_raster(f\"../data/processed/era5/tp/{country}{t}.tif\")"
   ]
  },
  {
   "cell_type": "markdown",
   "metadata": {},
   "source": [
    "### Plotting"
   ]
  },
  {
   "cell_type": "code",
   "execution_count": 97,
   "metadata": {},
   "outputs": [],
   "source": [
    "# variable = 'tp'\n",
    "variable = 't2m'"
   ]
  },
  {
   "cell_type": "code",
   "execution_count": 98,
   "metadata": {},
   "outputs": [],
   "source": [
    "array = clipped.isel(time=0)[variable].expand_dims({\"band\":1})"
   ]
  },
  {
   "cell_type": "code",
   "execution_count": 99,
   "metadata": {},
   "outputs": [
    {
     "data": {
      "image/png": "[encoded data removed]",
      "text/plain": [
       "<Figure size 432x288 with 2 Axes>"
      ]
     },
     "metadata": {
      "needs_background": "light"
     },
     "output_type": "display_data"
    }
   ],
   "source": [
    "array.where(array >= 0).squeeze().plot.imshow(cmap=\"hot_r\");"
   ]
  },
  {
   "cell_type": "code",
   "execution_count": 65,
   "metadata": {},
   "outputs": [
    {
     "data": {
      "text/plain": [
       "<AxesSubplot:>"
      ]
     },
     "execution_count": 65,
     "metadata": {},
     "output_type": "execute_result"
    },
    {
     "data": {
      "image/png": "[encoded data removed]",
      "text/plain": [
       "<Figure size 432x288 with 1 Axes>"
      ]
     },
     "metadata": {
      "needs_background": "light"
     },
     "output_type": "display_data"
    }
   ],
   "source": [
    "shp.plot()"
   ]
  },
  {
   "cell_type": "markdown",
   "metadata": {},
   "source": [
    "## Agroclimatic indicators\n",
    "https://cds.climate.copernicus.eu/cdsapp#!/dataset/sis-agroclimatic-indicators?tab=form"
   ]
  },
  {
   "cell_type": "code",
   "execution_count": 4,
   "metadata": {},
   "outputs": [],
   "source": [
    "cds = cdsapi.Client()\n",
    "name = 'sis-agroclimatic-indicators'"
   ]
  },
  {
   "cell_type": "markdown",
   "metadata": {},
   "source": [
    "### Cold spell duration index, warm spell duration index"
   ]
  },
  {
   "cell_type": "code",
   "execution_count": 12,
   "metadata": {},
   "outputs": [],
   "source": [
    "params = {\n",
    "    \"format\": \"zip\",\n",
    "    \"origin\": \"miroc_esm_chem_model\",\n",
    "    \"variable\": ['cold_spell_duration_index', 'warm_spell_duration_index'],\n",
    "    'temporal_aggregation': 'season',\n",
    "    'experiment': 'historical',\n",
    "    'period': '198101_201012',\n",
    "    'version': '1.1',\n",
    "    }"
   ]
  },
  {
   "cell_type": "code",
   "execution_count": 13,
   "metadata": {},
   "outputs": [
    {
     "name": "stderr",
     "output_type": "stream",
     "text": [
      "2022-10-06 11:13:44,644 INFO Welcome to the CDS\n",
      "2022-10-06 11:13:44,645 INFO Sending request to https://cds.climate.copernicus.eu/api/v2/resources/sis-agroclimatic-indicators\n",
      "2022-10-06 11:13:44,707 INFO Request is queued\n",
      "2022-10-06 11:13:45,763 INFO Request is completed\n"
     ]
    }
   ],
   "source": [
    "# Get the data\n",
    "files = cds.retrieve(name, params)"
   ]
  },
  {
   "cell_type": "code",
   "execution_count": 15,
   "metadata": {},
   "outputs": [],
   "source": [
    "r = requests.get(files.location)\n",
    "z = zipfile.ZipFile(io.BytesIO(r.content))\n",
    "z.extractall(\"../data/raw/agroclimatic_indicators/\")"
   ]
  },
  {
   "cell_type": "code",
   "execution_count": 3,
   "metadata": {},
   "outputs": [],
   "source": [
    "wsdi = xr.open_dataset(\"../data/raw/agroclimatic_indicators/WSDI_C3S-glob-agric_miroc-esm-chem_hist_season_19810101-20101231_v1.1.nc\")\n",
    "wsdi = wsdi.drop('time_bounds')\n",
    "wsdi = wsdi.rio.write_crs('EPSG:4326')\n",
    "csdi = xr.open_dataset(\"../data/raw/agroclimatic_indicators/CSDI_C3S-glob-agric_miroc-esm-chem_hist_season_19810101-20101231_v1.1.nc\")\n",
    "csdi = csdi.drop('time_bounds')\n",
    "csdi = csdi.rio.write_crs('EPSG:4326')"
   ]
  },
  {
   "cell_type": "code",
   "execution_count": 20,
   "metadata": {},
   "outputs": [],
   "source": [
    "array = clipped.isel(time=0)['CSDI'].expand_dims({\"band\":1})"
   ]
  },
  {
   "cell_type": "code",
   "execution_count": 21,
   "metadata": {},
   "outputs": [
    {
     "data": {
      "image/png": "[encoded data removed]",
      "text/plain": [
       "<Figure size 432x288 with 2 Axes>"
      ]
     },
     "metadata": {
      "needs_background": "light"
     },
     "output_type": "display_data"
    }
   ],
   "source": [
    "array.where(array >= 0).squeeze().plot.imshow(cmap=\"hot_r\");"
   ]
  },
  {
   "cell_type": "code",
   "execution_count": 22,
   "metadata": {},
   "outputs": [
    {
     "data": {
      "text/plain": [
       "<AxesSubplot:>"
      ]
     },
     "execution_count": 22,
     "metadata": {},
     "output_type": "execute_result"
    },
    {
     "data": {
      "image/png": "[encoded data removed]",
      "text/plain": [
       "<Figure size 432x288 with 1 Axes>"
      ]
     },
     "metadata": {
      "needs_background": "light"
     },
     "output_type": "display_data"
    }
   ],
   "source": [
    "shp.plot()"
   ]
  },
  {
   "cell_type": "code",
   "execution_count": 29,
   "metadata": {},
   "outputs": [],
   "source": [
    "countries = ['Bangladesh',\n",
    "             'Ethiopia',\n",
    "             'Jordan',\n",
    "             'Kenya',\n",
    "             'Pakistan',\n",
    "             'Rwanda',\n",
    "             'Sudan',\n",
    "             'South Sudan',\n",
    "             'Tanzania',\n",
    "             'Uganda'\n",
    "             ]"
   ]
  },
  {
   "cell_type": "code",
   "execution_count": 30,
   "metadata": {},
   "outputs": [
    {
     "name": "stderr",
     "output_type": "stream",
     "text": [
      "100%|██████████| 10/10 [01:17<00:00,  7.75s/it]\n"
     ]
    }
   ],
   "source": [
    "for country in tqdm(countries):\n",
    "    shp = adm0[adm0['NAME_0'] == country]\n",
    "    clipped = wsdi.rio.clip(shp.geometry.values, shp.crs)\n",
    "    for t in range(len(clipped['time'])):\n",
    "        variable = 'WSDI'\n",
    "        array = clipped.isel(time=t)[variable].expand_dims({\"band\":1})\n",
    "        array.where(array >= 0).rio.to_raster(f\"../data/processed/agroclimatic_indicators/wsdi/{country}{t}.tif\")\n",
    "    \n",
    "    clipped = csdi.rio.clip(shp.geometry.values, shp.crs)\n",
    "    for t in range(len(clipped['time'])):\n",
    "        variable = 'CSDI'\n",
    "        array = clipped.isel(time=t)[variable].expand_dims({\"band\":1})\n",
    "        array.where(array >= 0).rio.to_raster(f\"../data/processed/agroclimatic_indicators/csdi/{country}{t}.tif\")"
   ]
  },
  {
   "cell_type": "markdown",
   "metadata": {},
   "source": [
    "### Heavy precipitation days"
   ]
  },
  {
   "cell_type": "code",
   "execution_count": 31,
   "metadata": {},
   "outputs": [],
   "source": [
    "params = {\n",
    "    \"format\": \"zip\",\n",
    "    \"origin\": \"miroc_esm_chem_model\",\n",
    "    \"variable\": ['heavy_precipitation_days'],\n",
    "    'temporal_aggregation': '10_day',\n",
    "    'experiment': 'historical',\n",
    "    'period': '198101_201012',\n",
    "    'version': '1.1',\n",
    "    }"
   ]
  },
  {
   "cell_type": "code",
   "execution_count": 2,
   "metadata": {},
   "outputs": [],
   "source": [
    "# Get the data\n",
    "files = cds.retrieve(name, params)"
   ]
  },
  {
   "cell_type": "code",
   "execution_count": 87,
   "metadata": {},
   "outputs": [],
   "source": [
    "r = requests.get(files.location)\n",
    "z = zipfile.ZipFile(io.BytesIO(r.content))\n",
    "z.extractall(\"../data/raw/agroclimatic_indicators/\")"
   ]
  },
  {
   "cell_type": "code",
   "execution_count": 35,
   "metadata": {},
   "outputs": [],
   "source": [
    "r10mm = xr.open_dataset(\"../data/raw/agroclimatic_indicators/R10mm_C3S-glob-agric_miroc-esm-chem_hist_dek_19810101-20101231_v1.1.nc\")\n",
    "r10mm = r10mm.drop('time_bounds')\n",
    "r10mm = r10mm.rio.write_crs('EPSG:4326')"
   ]
  },
  {
   "cell_type": "code",
   "execution_count": 36,
   "metadata": {},
   "outputs": [],
   "source": [
    "countries = ['Bangladesh',\n",
    "             'Ethiopia',\n",
    "             'Jordan',\n",
    "             'Kenya',\n",
    "             'Pakistan',\n",
    "             'Rwanda',\n",
    "             'Sudan',\n",
    "             'South Sudan',\n",
    "             'Tanzania',\n",
    "             'Uganda'\n",
    "             ]"
   ]
  },
  {
   "cell_type": "code",
   "execution_count": 37,
   "metadata": {},
   "outputs": [
    {
     "name": "stderr",
     "output_type": "stream",
     "text": [
      "100%|██████████| 1/1 [00:13<00:00, 13.47s/it]\n"
     ]
    }
   ],
   "source": [
    "for country in tqdm(countries[:1]):\n",
    "    shp = adm0[adm0['NAME_0'] == country]\n",
    "    clipped = r10mm.rio.clip(shp.geometry.values, shp.crs)\n",
    "    for t in range(len(clipped['time'])):\n",
    "        variable = 'R10mm'\n",
    "        array = clipped.isel(time=t)[variable].expand_dims({\"band\":1})\n",
    "        # array.where(array >= 0).rio.to_raster(f\"../data/processed/agroclimatic_indicators/r10mm/{country}{t}.tif\")"
   ]
  },
  {
   "cell_type": "code",
   "execution_count": 58,
   "metadata": {},
   "outputs": [
    {
     "data": {
      "text/plain": [
       "1080"
      ]
     },
     "execution_count": 58,
     "metadata": {},
     "output_type": "execute_result"
    }
   ],
   "source": [
    "len(clipped['time'])"
   ]
  },
  {
   "cell_type": "code",
   "execution_count": 49,
   "metadata": {},
   "outputs": [],
   "source": [
    "t = clipped['time'].values"
   ]
  },
  {
   "cell_type": "code",
   "execution_count": 57,
   "metadata": {},
   "outputs": [],
   "source": [
    "pd.DataFrame(pd.to_datetime(t)).to_csv(\"../data/processed/agroclimatic_indicators/r10mm/t.csv\", index=False)"
   ]
  }
 ],
 "metadata": {
  "kernelspec": {
   "display_name": "Python 3.8.3 ('test')",
   "language": "python",
   "name": "python3"
  },
  "language_info": {
   "codemirror_mode": {
    "name": "ipython",
    "version": 3
   },
   "file_extension": ".py",
   "mimetype": "text/x-python",
   "name": "python",
   "nbconvert_exporter": "python",
   "pygments_lexer": "ipython3",
   "version": "3.8.3"
  },
  "orig_nbformat": 4,
  "vscode": {
   "interpreter": {
    "hash": "dbdae5b50e82c471d1674c63251976a2c23f63426d7c96d8ba4f941f049fed8a"
   }
  }
 },
 "nbformat": 4,
 "nbformat_minor": 2
}
