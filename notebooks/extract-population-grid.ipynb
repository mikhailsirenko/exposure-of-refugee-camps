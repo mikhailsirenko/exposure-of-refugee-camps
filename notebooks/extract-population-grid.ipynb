{
 "cells": [
  {
   "cell_type": "code",
   "execution_count": 2,
   "metadata": {},
   "outputs": [],
   "source": [
    "import rasterio\n",
    "from rasterio.mask import mask\n",
    "from rasterio.plot import show\n",
    "import rioxarray as rxr\n",
    "import xarray as xr\n",
    "import geopandas as gpd\n",
    "from tqdm import tqdm\n",
    "import numpy as np\n",
    "import pycrs\n",
    "import matplotlib.pyplot as plt\n",
    "import pandas as pd\n",
    "import geopandas as gpd\n",
    "import glob\n",
    "import os\n",
    "from prepare_data import *"
   ]
  },
  {
   "cell_type": "markdown",
   "metadata": {},
   "source": [
    "## Adm0\n",
    "https://gadm.org/download_country_v3.html"
   ]
  },
  {
   "cell_type": "code",
   "execution_count": 3,
   "metadata": {},
   "outputs": [],
   "source": [
    "countries = ['Bangladesh',\n",
    "             'Ethiopia',\n",
    "             'Jordan',\n",
    "             'Kenya',\n",
    "             'Pakistan',\n",
    "             'Rwanda',\n",
    "             'Sudan',\n",
    "             'South Sudan',\n",
    "             'Tanzania',\n",
    "             'Uganda']"
   ]
  },
  {
   "cell_type": "code",
   "execution_count": 5,
   "metadata": {},
   "outputs": [],
   "source": [
    "adm0 = {}\n",
    "folders = next(os.walk('../data/raw/gadm'))[1]\n",
    "for folder, country in zip(folders, countries):\n",
    "    path = '../data/raw/gadm/' + folder\n",
    "    files = glob.glob(path + \"/*.shp\")\n",
    "    for file in files:\n",
    "        if '_0.shp' in file:\n",
    "            adm0[country] = gpd.read_file(file)\n",
    "adm0 = pd.concat(adm0, axis=0).reset_index(drop=True)"
   ]
  },
  {
   "cell_type": "markdown",
   "metadata": {},
   "source": [
    "## GHS-POP"
   ]
  },
  {
   "cell_type": "markdown",
   "metadata": {},
   "source": [
    "### Load the data"
   ]
  },
  {
   "cell_type": "code",
   "execution_count": 7,
   "metadata": {},
   "outputs": [],
   "source": [
    "file = '../data/raw/worldpop/ppp_2020_1km_Aggregated.tif'\n",
    "data = rasterio.open(file)"
   ]
  },
  {
   "cell_type": "markdown",
   "metadata": {},
   "source": [
    "### Do masking"
   ]
  },
  {
   "cell_type": "code",
   "execution_count": 9,
   "metadata": {},
   "outputs": [],
   "source": [
    "for country in countries:\n",
    "    gdf = adm0[adm0['NAME_0'] == country]\n",
    "    coords = getFeatures(gdf)\n",
    "    out_img, out_transform = rasterio.mask.mask(dataset=data, shapes=coords, crop=True)\n",
    "    out_meta = data.meta.copy()\n",
    "    epsg_code = int(data.crs.data['init'][5:])\n",
    "    out_meta.update({\"driver\": \"GTiff\",\n",
    "                     \"height\": out_img.shape[1],\n",
    "                     \"width\": out_img.shape[2],\n",
    "                     \"transform\": out_transform,\n",
    "                     \"crs\": pycrs.parse.from_epsg_code(epsg_code).to_proj4()})\n",
    "    with rasterio.open(f'../data/processed/worldpop/{country}.tif', \"w\", **out_meta) as dest:\n",
    "        dest.write(out_img)"
   ]
  },
  {
   "cell_type": "code",
   "execution_count": 6,
   "metadata": {},
   "outputs": [
    {
     "data": {
      "image/png": "[encoded data removed]",
      "text/plain": [
       "<Figure size 432x288 with 1 Axes>"
      ]
     },
     "metadata": {
      "needs_background": "light"
     },
     "output_type": "display_data"
    }
   ],
   "source": [
    "# Check the result\n",
    "country = 'Bangladesh'\n",
    "data = rasterio.open(f'../data/processed/worldpop/{country}.tif')\n",
    "array = rxr.open_rasterio(f'../data/processed/worldpop/{country}.tif')\n",
    "show(data);"
   ]
  }
 ],
 "metadata": {
  "kernelspec": {
   "display_name": "Python 3.8.3 ('test')",
   "language": "python",
   "name": "python3"
  },
  "language_info": {
   "codemirror_mode": {
    "name": "ipython",
    "version": 3
   },
   "file_extension": ".py",
   "mimetype": "text/x-python",
   "name": "python",
   "nbconvert_exporter": "python",
   "pygments_lexer": "ipython3",
   "version": "3.8.3"
  },
  "orig_nbformat": 4,
  "vscode": {
   "interpreter": {
    "hash": "dbdae5b50e82c471d1674c63251976a2c23f63426d7c96d8ba4f941f049fed8a"
   }
  }
 },
 "nbformat": 4,
 "nbformat_minor": 2
}
